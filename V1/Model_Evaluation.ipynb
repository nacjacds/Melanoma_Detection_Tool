{
 "cells": [
  {
   "cell_type": "code",
   "execution_count": 1,
   "metadata": {},
   "outputs": [
    {
     "name": "stderr",
     "output_type": "stream",
     "text": [
      "2024-08-25 18:58:08.314523: I tensorflow/core/platform/cpu_feature_guard.cc:210] This TensorFlow binary is optimized to use available CPU instructions in performance-critical operations.\n",
      "To enable the following instructions: AVX2 FMA, in other operations, rebuild TensorFlow with the appropriate compiler flags.\n"
     ]
    }
   ],
   "source": [
    "import os\n",
    "import numpy as np\n",
    "from tensorflow.keras.preprocessing import image\n",
    "from tensorflow.keras.models import load_model\n",
    "from PIL import Image"
   ]
  },
  {
   "cell_type": "code",
   "execution_count": 18,
   "metadata": {},
   "outputs": [],
   "source": [
    "# Ruta al directorio de imágenes de prueba\n",
    "test_images_dir = \"model_evaluation/prueba\"\n",
    "\n",
    "# Cargar el modelo\n",
    "model = load_model(\"models/best_model_fold_2.keras\")\n",
    "\n",
    "# Tamaño de imagen esperado por el modelo\n",
    "EXPECTED_SIZE = (224, 224)  # Cambia esto si tu modelo espera un tamaño diferente\n",
    "\n",
    "# Función para preprocesar imágenes\n",
    "def preprocess_image(img_path):\n",
    "    img = Image.open(img_path)\n",
    "    img = img.resize(EXPECTED_SIZE)  # Redimensionar la imagen al tamaño esperado\n",
    "    img_array = image.img_to_array(img)\n",
    "    img_array = np.expand_dims(img_array, axis=0) / 255.0  # Normalizar\n",
    "    return img_array"
   ]
  },
  {
   "cell_type": "code",
   "execution_count": 19,
   "metadata": {},
   "outputs": [
    {
     "name": "stdout",
     "output_type": "stream",
     "text": [
      "\u001b[1m1/1\u001b[0m \u001b[32m━━━━━━━━━━━━━━━━━━━━\u001b[0m\u001b[37m\u001b[0m \u001b[1m10s\u001b[0m 10s/step\n",
      "ISIC_0000027.jpg: The image appears to be benign (not melanoma) with a confidence of 100.0%.\n",
      "\u001b[1m1/1\u001b[0m \u001b[32m━━━━━━━━━━━━━━━━━━━━\u001b[0m\u001b[37m\u001b[0m \u001b[1m0s\u001b[0m 211ms/step\n",
      "ISIC_0000037.jpg: The image appears to be benign (not melanoma) with a confidence of 99.91%.\n",
      "\u001b[1m1/1\u001b[0m \u001b[32m━━━━━━━━━━━━━━━━━━━━\u001b[0m\u001b[37m\u001b[0m \u001b[1m0s\u001b[0m 210ms/step\n",
      "ISIC_0000023.jpg: The image appears to be benign (not melanoma) with a confidence of 100.0%.\n",
      "\u001b[1m1/1\u001b[0m \u001b[32m━━━━━━━━━━━━━━━━━━━━\u001b[0m\u001b[37m\u001b[0m \u001b[1m0s\u001b[0m 206ms/step\n",
      "ISIC_0000036.jpg: The image appears to be benign (not melanoma) with a confidence of 100.0%.\n",
      "\u001b[1m1/1\u001b[0m \u001b[32m━━━━━━━━━━━━━━━━━━━━\u001b[0m\u001b[37m\u001b[0m \u001b[1m0s\u001b[0m 213ms/step\n",
      "ISIC_0000052.jpg: The image appears to be benign (not melanoma) with a confidence of 100.0%.\n",
      "\u001b[1m1/1\u001b[0m \u001b[32m━━━━━━━━━━━━━━━━━━━━\u001b[0m\u001b[37m\u001b[0m \u001b[1m0s\u001b[0m 208ms/step\n",
      "ISIC_0000053.jpg: The image appears to be benign (not melanoma) with a confidence of 100.0%.\n",
      "\u001b[1m1/1\u001b[0m \u001b[32m━━━━━━━━━━━━━━━━━━━━\u001b[0m\u001b[37m\u001b[0m \u001b[1m0s\u001b[0m 198ms/step\n",
      "ISIC_0000092.jpg: The image appears to be benign (not melanoma) with a confidence of 100.0%.\n",
      "\u001b[1m1/1\u001b[0m \u001b[32m━━━━━━━━━━━━━━━━━━━━\u001b[0m\u001b[37m\u001b[0m \u001b[1m0s\u001b[0m 190ms/step\n",
      "ISIC_0000040.jpg: The image appears to be benign (not melanoma) with a confidence of 100.0%.\n",
      "\u001b[1m1/1\u001b[0m \u001b[32m━━━━━━━━━━━━━━━━━━━━\u001b[0m\u001b[37m\u001b[0m \u001b[1m0s\u001b[0m 174ms/step\n",
      "ISIC_0000069.jpg: The image appears to be benign (not melanoma) with a confidence of 100.0%.\n",
      "\u001b[1m1/1\u001b[0m \u001b[32m━━━━━━━━━━━━━━━━━━━━\u001b[0m\u001b[37m\u001b[0m \u001b[1m0s\u001b[0m 182ms/step\n",
      "ISIC_0000043.jpg: The image appears to be benign (not melanoma) with a confidence of 77.92%.\n",
      "\u001b[1m1/1\u001b[0m \u001b[32m━━━━━━━━━━━━━━━━━━━━\u001b[0m\u001b[37m\u001b[0m \u001b[1m0s\u001b[0m 175ms/step\n",
      "ISIC_0000057.jpg: The image appears to be benign (not melanoma) with a confidence of 99.98%.\n",
      "\u001b[1m1/1\u001b[0m \u001b[32m━━━━━━━━━━━━━━━━━━━━\u001b[0m\u001b[37m\u001b[0m \u001b[1m0s\u001b[0m 326ms/step\n",
      "ISIC_0000056.jpg: The image appears to be benign (not melanoma) with a confidence of 100.0%.\n",
      "\u001b[1m1/1\u001b[0m \u001b[32m━━━━━━━━━━━━━━━━━━━━\u001b[0m\u001b[37m\u001b[0m \u001b[1m0s\u001b[0m 160ms/step\n",
      "ISIC_0000098.jpg: The image appears to be benign (not melanoma) with a confidence of 99.99%.\n",
      "\u001b[1m1/1\u001b[0m \u001b[32m━━━━━━━━━━━━━━━━━━━━\u001b[0m\u001b[37m\u001b[0m \u001b[1m0s\u001b[0m 193ms/step\n",
      "ISIC_0000113.jpg: The image appears to be benign (not melanoma) with a confidence of 100.0%.\n",
      "\u001b[1m1/1\u001b[0m \u001b[32m━━━━━━━━━━━━━━━━━━━━\u001b[0m\u001b[37m\u001b[0m \u001b[1m0s\u001b[0m 216ms/step\n",
      "ISIC_0000107.jpg: The image appears to be benign (not melanoma) with a confidence of 100.0%.\n",
      "\u001b[1m1/1\u001b[0m \u001b[32m━━━━━━━━━━━━━━━━━━━━\u001b[0m\u001b[37m\u001b[0m \u001b[1m0s\u001b[0m 192ms/step\n",
      "ISIC_0000099.jpg: The image appears to be benign (not melanoma) with a confidence of 99.97%.\n",
      "\u001b[1m1/1\u001b[0m \u001b[32m━━━━━━━━━━━━━━━━━━━━\u001b[0m\u001b[37m\u001b[0m \u001b[1m0s\u001b[0m 198ms/step\n",
      "ISIC_0000072.jpg: The image appears to be benign (not melanoma) with a confidence of 99.96%.\n",
      "\u001b[1m1/1\u001b[0m \u001b[32m━━━━━━━━━━━━━━━━━━━━\u001b[0m\u001b[37m\u001b[0m \u001b[1m0s\u001b[0m 150ms/step\n",
      "ISIC_0000066.jpg: The image appears to be benign (not melanoma) with a confidence of 99.84%.\n",
      "\u001b[1m1/1\u001b[0m \u001b[32m━━━━━━━━━━━━━━━━━━━━\u001b[0m\u001b[37m\u001b[0m \u001b[1m0s\u001b[0m 146ms/step\n",
      "ISIC_0000064.jpg: The image appears to be benign (not melanoma) with a confidence of 100.0%.\n",
      "\u001b[1m1/1\u001b[0m \u001b[32m━━━━━━━━━━━━━━━━━━━━\u001b[0m\u001b[37m\u001b[0m \u001b[1m0s\u001b[0m 153ms/step\n",
      "ISIC_0000111.jpg: The image appears to be benign (not melanoma) with a confidence of 99.99%.\n",
      "\u001b[1m1/1\u001b[0m \u001b[32m━━━━━━━━━━━━━━━━━━━━\u001b[0m\u001b[37m\u001b[0m \u001b[1m0s\u001b[0m 149ms/step\n",
      "ISIC_0000071.jpg: The image appears to be benign (not melanoma) with a confidence of 100.0%.\n",
      "\u001b[1m1/1\u001b[0m \u001b[32m━━━━━━━━━━━━━━━━━━━━\u001b[0m\u001b[37m\u001b[0m \u001b[1m0s\u001b[0m 156ms/step\n",
      "ISIC_0000101.jpg: The image appears to be benign (not melanoma) with a confidence of 99.96%.\n",
      "\u001b[1m1/1\u001b[0m \u001b[32m━━━━━━━━━━━━━━━━━━━━\u001b[0m\u001b[37m\u001b[0m \u001b[1m0s\u001b[0m 153ms/step\n",
      "ISIC_0000115.jpg: The image appears to be benign (not melanoma) with a confidence of 100.0%.\n",
      "\u001b[1m1/1\u001b[0m \u001b[32m━━━━━━━━━━━━━━━━━━━━\u001b[0m\u001b[37m\u001b[0m \u001b[1m0s\u001b[0m 156ms/step\n",
      "ISIC_0000088.jpg: The image appears to be benign (not melanoma) with a confidence of 100.0%.\n"
     ]
    }
   ],
   "source": [
    "# Evaluar todas las imágenes en el directorio\n",
    "def evaluate_images(model, test_images_dir):\n",
    "    for img_name in os.listdir(test_images_dir):\n",
    "        img_path = os.path.join(test_images_dir, img_name)\n",
    "        \n",
    "        # Preprocesar la imagen\n",
    "        img_array = preprocess_image(img_path)\n",
    "        \n",
    "        # Hacer la predicción\n",
    "        prediction = model.predict(img_array)\n",
    "        probability = prediction[0][0]  # Obtén la probabilidad de la clase positiva (Melanoma)\n",
    "\n",
    "        # Generar diagnóstico\n",
    "        if probability > 0.5:\n",
    "            confidence = round(probability * 100, 2)\n",
    "            diagnosis = f\"{img_name}: The image appears to be a melanoma with a confidence of {confidence}%.\"\n",
    "        else:\n",
    "            confidence = round((1 - probability) * 100, 2)\n",
    "            diagnosis = f\"{img_name}: The image appears to be benign (not melanoma) with a confidence of {confidence}%.\"\n",
    "\n",
    "        # Imprimir el resultado\n",
    "        print(diagnosis)\n",
    "\n",
    "# Ejecutar la evaluación\n",
    "evaluate_images(model, test_images_dir)"
   ]
  },
  {
   "cell_type": "code",
   "execution_count": null,
   "metadata": {},
   "outputs": [],
   "source": [
    "# Filtrar imágenes con diagnóstico de Melanoma\n",
    "melanoma_images = df[df['diagnosis'] == 'melanoma']\n",
    "\n",
    "# Filtrar imágenes con diagnóstico de No Melanoma\n",
    "no_melanoma_images = df[df['diagnosis'].isin(['nevus', 'seborrheic_keratosis'])]"
   ]
  }
 ],
 "metadata": {
  "kernelspec": {
   "display_name": "Python 3",
   "language": "python",
   "name": "python3"
  },
  "language_info": {
   "codemirror_mode": {
    "name": "ipython",
    "version": 3
   },
   "file_extension": ".py",
   "mimetype": "text/x-python",
   "name": "python",
   "nbconvert_exporter": "python",
   "pygments_lexer": "ipython3",
   "version": "3.12.3"
  }
 },
 "nbformat": 4,
 "nbformat_minor": 2
}
