{
 "cells": [
  {
   "cell_type": "markdown",
   "metadata": {},
   "source": [
    "## Este es el Modelo 02 Con Cross Validation en el que he añadido capas con dropouts y Regularizacion L2 para reducir el overfitting"
   ]
  },
  {
   "cell_type": "code",
   "execution_count": 36,
   "metadata": {},
   "outputs": [],
   "source": [
    "import os\n",
    "import numpy as np\n",
    "import json\n",
    "import matplotlib.pyplot as plt\n",
    "from tensorflow.keras.preprocessing.image import ImageDataGenerator\n",
    "from tensorflow.keras import layers, models, regularizers\n",
    "from tensorflow.keras.callbacks import ModelCheckpoint, EarlyStopping, ReduceLROnPlateau\n",
    "from tensorflow.keras.optimizers import Adam\n",
    "from sklearn.metrics import classification_report, confusion_matrix\n",
    "from sklearn.model_selection import StratifiedKFold\n",
    "from tensorflow.keras.applications import DenseNet121\n",
    "from tensorflow.keras.models import load_model"
   ]
  },
  {
   "cell_type": "code",
   "execution_count": 11,
   "metadata": {},
   "outputs": [],
   "source": [
    "# Resized images\n",
    "train_dir = 'data/train' \n",
    "test_dir = 'data/test'"
   ]
  },
  {
   "cell_type": "code",
   "execution_count": 12,
   "metadata": {},
   "outputs": [],
   "source": [
    "# Carpeta de modelos existe?\n",
    "model_dir = 'models'\n",
    "os.makedirs(model_dir, exist_ok=True)"
   ]
  },
  {
   "cell_type": "code",
   "execution_count": 25,
   "metadata": {},
   "outputs": [
    {
     "name": "stdout",
     "output_type": "stream",
     "text": [
      "Found 10682 images belonging to 2 classes.\n",
      "Found 3561 images belonging to 2 classes.\n"
     ]
    }
   ],
   "source": [
    "# Generador de datos con normalización y aumentación solo para el entrenamiento, esto ayuda a generalizar mejor.\n",
    "train_datagen = ImageDataGenerator(\n",
    "    rescale=1./255,\n",
    "    rotation_range=40,\n",
    "    width_shift_range=0.2,\n",
    "    height_shift_range=0.2,\n",
    "    shear_range=0.2,\n",
    "    zoom_range=0.2,\n",
    "    horizontal_flip=True,\n",
    "    fill_mode='nearest'\n",
    ")\n",
    "\n",
    "valid_test_datagen = ImageDataGenerator(rescale=1./255)\n",
    "\n",
    "# Crear los generadores\n",
    "train_generator = train_datagen.flow_from_directory(\n",
    "    train_dir,\n",
    "    target_size=(224, 224),\n",
    "    batch_size=32,\n",
    "    class_mode='categorical'\n",
    ")\n",
    "\n",
    "test_generator = valid_test_datagen.flow_from_directory(\n",
    "    test_dir,\n",
    "    target_size=(224, 224),\n",
    "    batch_size=32,\n",
    "    class_mode='categorical',\n",
    "    shuffle=False\n",
    ")"
   ]
  },
  {
   "cell_type": "code",
   "execution_count": 14,
   "metadata": {},
   "outputs": [],
   "source": [
    "# Seleccionar y cargar el modelo preentrenado\n",
    "from tensorflow.keras.applications import DenseNet121"
   ]
  },
  {
   "cell_type": "code",
   "execution_count": 28,
   "metadata": {},
   "outputs": [],
   "source": [
    "# Crear listas para almacenar las imágenes y etiquetas\n",
    "X, y = [], []\n",
    "\n",
    "# Iterar sobre el generador de entrenamiento y extraer las imágenes y etiquetas\n",
    "for _ in range(len(train_generator)):\n",
    "    X_batch, y_batch = next(train_generator)\n",
    "    X.append(X_batch)\n",
    "    y.append(y_batch)\n",
    "\n",
    "# Convertir las listas a arrays numpy\n",
    "X = np.vstack(X)\n",
    "y = np.vstack(y)\n",
    "\n",
    "# Definir el número de splits para la validación cruzada\n",
    "n_splits = 5\n",
    "\n",
    "# Crear los objetos de validación cruzada\n",
    "skf = StratifiedKFold(n_splits=n_splits, shuffle=True, random_state=42)\n",
    "\n",
    "# Guardar las métricas para cada fold\n",
    "accuracy_scores = []\n",
    "\n",
    "# Iniciar desde el fold completado anteriormente\n",
    "initial_fold = 4\n",
    "\n",
    "for fold_index, (train_index, val_index) in enumerate(skf.split(X, np.argmax(y, axis=1))):\n",
    "    if fold_index < initial_fold:\n",
    "        continue\n",
    "\n",
    "    X_train_fold, X_val_fold = X[train_index], X[val_index]\n",
    "    y_train_fold, y_val_fold = y[train_index], y[val_index]\n",
    "\n",
    "    # Clonar el modelo base\n",
    "    base_model = DenseNet121(weights='imagenet', include_top=False, input_shape=(224, 224, 3))\n",
    "    base_model.trainable = False\n",
    "    \n",
    "    # Añadir capas superiores personalizadas\n",
    "    x = base_model.output\n",
    "    x = layers.GlobalAveragePooling2D()(x)\n",
    "    x = layers.Dense(512, activation='relu', kernel_regularizer=regularizers.l2(0.001))(x)\n",
    "    x = layers.Dropout(0.5)(x)\n",
    "    x = layers.Dense(512, activation='relu', kernel_regularizer=regularizers.l2(0.001))(x)\n",
    "    x = layers.Dropout(0.5)(x)\n",
    "    outputs = layers.Dense(2, activation='softmax')(x)  # Suponiendo 2 clases: Melanoma y NotMelanoma\n",
    "    \n",
    "    model = models.Model(inputs=base_model.input, outputs=outputs)\n",
    "    \n",
    "    model.compile(optimizer=Adam(learning_rate=1e-4),\n",
    "                  loss='categorical_crossentropy',\n",
    "                  metrics=['accuracy'])\n",
    "\n",
    "    # Definir callbacks\n",
    "    fold_model_path = os.path.join(model_dir, f'best_model_fold_{fold_index + 1}.keras')\n",
    "    checkpoint = ModelCheckpoint(fold_model_path, monitor='val_loss', save_best_only=True)\n",
    "    early_stopping = EarlyStopping(monitor='val_loss', patience=5, restore_best_weights=True)\n",
    "    reduce_lr = ReduceLROnPlateau(monitor='val_loss', factor=0.1, patience=3, min_lr=1e-7)"
   ]
  },
  {
   "cell_type": "code",
   "execution_count": 29,
   "metadata": {},
   "outputs": [
    {
     "name": "stdout",
     "output_type": "stream",
     "text": [
      "Epoch 1/10\n",
      "\u001b[1m268/268\u001b[0m \u001b[32m━━━━━━━━━━━━━━━━━━━━\u001b[0m\u001b[37m\u001b[0m \u001b[1m1444s\u001b[0m 5s/step - accuracy: 0.7008 - loss: 1.6509 - val_accuracy: 0.9162 - val_loss: 1.0761 - learning_rate: 1.0000e-04\n",
      "Epoch 2/10\n",
      "\u001b[1m268/268\u001b[0m \u001b[32m━━━━━━━━━━━━━━━━━━━━\u001b[0m\u001b[37m\u001b[0m \u001b[1m1208s\u001b[0m 5s/step - accuracy: 0.8842 - loss: 1.0900 - val_accuracy: 0.9457 - val_loss: 0.8549 - learning_rate: 1.0000e-04\n",
      "Epoch 3/10\n",
      "\u001b[1m268/268\u001b[0m \u001b[32m━━━━━━━━━━━━━━━━━━━━\u001b[0m\u001b[37m\u001b[0m \u001b[1m1056s\u001b[0m 4s/step - accuracy: 0.9265 - loss: 0.8765 - val_accuracy: 0.9672 - val_loss: 0.7319 - learning_rate: 1.0000e-04\n",
      "Epoch 4/10\n",
      "\u001b[1m268/268\u001b[0m \u001b[32m━━━━━━━━━━━━━━━━━━━━\u001b[0m\u001b[37m\u001b[0m \u001b[1m1139s\u001b[0m 4s/step - accuracy: 0.9446 - loss: 0.7572 - val_accuracy: 0.9658 - val_loss: 0.6633 - learning_rate: 1.0000e-04\n",
      "Epoch 5/10\n",
      "\u001b[1m268/268\u001b[0m \u001b[32m━━━━━━━━━━━━━━━━━━━━\u001b[0m\u001b[37m\u001b[0m \u001b[1m1044s\u001b[0m 4s/step - accuracy: 0.9560 - loss: 0.6842 - val_accuracy: 0.9705 - val_loss: 0.6057 - learning_rate: 1.0000e-04\n",
      "Epoch 6/10\n",
      "\u001b[1m268/268\u001b[0m \u001b[32m━━━━━━━━━━━━━━━━━━━━\u001b[0m\u001b[37m\u001b[0m \u001b[1m990s\u001b[0m 4s/step - accuracy: 0.9629 - loss: 0.6216 - val_accuracy: 0.9700 - val_loss: 0.5683 - learning_rate: 1.0000e-04\n",
      "Epoch 7/10\n",
      "\u001b[1m268/268\u001b[0m \u001b[32m━━━━━━━━━━━━━━━━━━━━\u001b[0m\u001b[37m\u001b[0m \u001b[1m974s\u001b[0m 4s/step - accuracy: 0.9625 - loss: 0.5820 - val_accuracy: 0.9728 - val_loss: 0.5239 - learning_rate: 1.0000e-04\n",
      "Epoch 8/10\n",
      "\u001b[1m268/268\u001b[0m \u001b[32m━━━━━━━━━━━━━━━━━━━━\u001b[0m\u001b[37m\u001b[0m \u001b[1m997s\u001b[0m 4s/step - accuracy: 0.9710 - loss: 0.5266 - val_accuracy: 0.9752 - val_loss: 0.4898 - learning_rate: 1.0000e-04\n",
      "Epoch 9/10\n",
      "\u001b[1m268/268\u001b[0m \u001b[32m━━━━━━━━━━━━━━━━━━━━\u001b[0m\u001b[37m\u001b[0m \u001b[1m1028s\u001b[0m 4s/step - accuracy: 0.9722 - loss: 0.4925 - val_accuracy: 0.9738 - val_loss: 0.4556 - learning_rate: 1.0000e-04\n",
      "Epoch 10/10\n",
      "\u001b[1m268/268\u001b[0m \u001b[32m━━━━━━━━━━━━━━━━━━━━\u001b[0m\u001b[37m\u001b[0m \u001b[1m1005s\u001b[0m 4s/step - accuracy: 0.9754 - loss: 0.4585 - val_accuracy: 0.9789 - val_loss: 0.4209 - learning_rate: 1.0000e-04\n"
     ]
    }
   ],
   "source": [
    "# Entrenar el modelo en el fold actual\n",
    "history = model.fit(X_train_fold, y_train_fold,\n",
    "                        validation_data=(X_val_fold, y_val_fold),\n",
    "                        epochs=10,  # Ajusta según sea necesario\n",
    "                        callbacks=[checkpoint, early_stopping, reduce_lr])"
   ]
  },
  {
   "cell_type": "code",
   "execution_count": 30,
   "metadata": {},
   "outputs": [
    {
     "name": "stdout",
     "output_type": "stream",
     "text": [
      "\u001b[1m67/67\u001b[0m \u001b[32m━━━━━━━━━━━━━━━━━━━━\u001b[0m\u001b[37m\u001b[0m \u001b[1m183s\u001b[0m 3s/step - accuracy: 0.9765 - loss: 0.4218\n"
     ]
    }
   ],
   "source": [
    "# Evaluar el modelo en el fold de validación\n",
    "val_loss, val_accuracy = model.evaluate(X_val_fold, y_val_fold)\n",
    "accuracy_scores.append({'fold': fold_index + 1, 'val_accuracy': val_accuracy, 'val_loss': val_loss})"
   ]
  },
  {
   "cell_type": "code",
   "execution_count": 32,
   "metadata": {},
   "outputs": [
    {
     "name": "stdout",
     "output_type": "stream",
     "text": [
      "Accuracy promedio en validación cruzada: 0.9789325594902039\n"
     ]
    }
   ],
   "source": [
    "# Calcular y mostrar la precisión promedio en los folds\n",
    "average_accuracy = np.mean([score['val_accuracy'] for score in accuracy_scores])\n",
    "print(f\"Accuracy promedio en validación cruzada: {average_accuracy}\")"
   ]
  },
  {
   "cell_type": "code",
   "execution_count": 40,
   "metadata": {},
   "outputs": [
    {
     "name": "stdout",
     "output_type": "stream",
     "text": [
      "\u001b[1m112/112\u001b[0m \u001b[32m━━━━━━━━━━━━━━━━━━━━\u001b[0m\u001b[37m\u001b[0m \u001b[1m345s\u001b[0m 3s/step\n",
      "Predictions shape: (3561, 2)\n",
      "Predicted classes length: 3561\n",
      "True classes length: 3561\n"
     ]
    }
   ],
   "source": [
    "# Calcular el número de steps exactos para cubrir todas las muestras\n",
    "steps = int(np.ceil(test_generator.samples / test_generator.batch_size))\n",
    "\n",
    "# Calcular las predicciones con el número de steps correcto\n",
    "predictions = best_model.predict(test_generator, steps=steps, verbose=1)\n",
    "\n",
    "# Asegurarme de que no falten imágenes al final del proceso\n",
    "predicted_classes = np.argmax(predictions, axis=1)\n",
    "\n",
    "# Imprimir el tamaño de la salida de predicciones\n",
    "print(f\"Predictions shape: {predictions.shape}\")\n",
    "print(f\"Predicted classes length: {len(predicted_classes)}\")\n",
    "true_classes = test_generator.classes\n",
    "print(f\"True classes length: {len(true_classes)}\")"
   ]
  },
  {
   "cell_type": "code",
   "execution_count": 41,
   "metadata": {},
   "outputs": [
    {
     "name": "stdout",
     "output_type": "stream",
     "text": [
      "              precision    recall  f1-score   support\n",
      "\n",
      "    Melanoma       0.99      0.99      0.99      1781\n",
      " NotMelanoma       0.99      0.99      0.99      1780\n",
      "\n",
      "    accuracy                           0.99      3561\n",
      "   macro avg       0.99      0.99      0.99      3561\n",
      "weighted avg       0.99      0.99      0.99      3561\n",
      "\n"
     ]
    }
   ],
   "source": [
    "# Comparar las longitudes de true_classes y predicted_classes\n",
    "if len(true_classes) == len(predicted_classes):\n",
    "    report = classification_report(true_classes, predicted_classes, target_names=['Melanoma', 'NotMelanoma'])\n",
    "    print(report)\n",
    "else:\n",
    "    print(\"Las longitudes de true_classes y predicted_classes no coinciden. No se puede generar el reporte.\")"
   ]
  },
  {
   "cell_type": "code",
   "execution_count": 42,
   "metadata": {},
   "outputs": [
    {
     "name": "stdout",
     "output_type": "stream",
     "text": [
      "Cargando y evaluando models/best_model_fold_1.keras...\n",
      "\u001b[1m111/111\u001b[0m \u001b[32m━━━━━━━━━━━━━━━━━━━━\u001b[0m\u001b[37m\u001b[0m \u001b[1m335s\u001b[0m 3s/step - accuracy: 0.9770 - loss: 0.4264\n",
      "Fold 1 - Test Loss: 0.4062718451023102, Test Accuracy: 0.9864864945411682\n",
      "Cargando y evaluando models/best_model_fold_2.keras...\n",
      "\u001b[1m111/111\u001b[0m \u001b[32m━━━━━━━━━━━━━━━━━━━━\u001b[0m\u001b[37m\u001b[0m \u001b[1m384s\u001b[0m 3s/step - accuracy: 0.9905 - loss: 0.4182\n",
      "Fold 2 - Test Loss: 0.4138973355293274, Test Accuracy: 0.9921171069145203\n",
      "Cargando y evaluando models/best_model_fold_3.keras...\n",
      "\u001b[1m111/111\u001b[0m \u001b[32m━━━━━━━━━━━━━━━━━━━━\u001b[0m\u001b[37m\u001b[0m \u001b[1m371s\u001b[0m 3s/step - accuracy: 0.9832 - loss: 0.4350\n",
      "Fold 3 - Test Loss: 0.42039668560028076, Test Accuracy: 0.9890202879905701\n",
      "Cargando y evaluando models/best_model_fold_4.keras...\n",
      "\u001b[1m111/111\u001b[0m \u001b[32m━━━━━━━━━━━━━━━━━━━━\u001b[0m\u001b[37m\u001b[0m \u001b[1m359s\u001b[0m 3s/step - accuracy: 0.9874 - loss: 0.4135\n",
      "Fold 4 - Test Loss: 0.40467318892478943, Test Accuracy: 0.9915540814399719\n",
      "Cargando y evaluando models/best_model_fold_5.keras...\n",
      "\u001b[1m111/111\u001b[0m \u001b[32m━━━━━━━━━━━━━━━━━━━━\u001b[0m\u001b[37m\u001b[0m \u001b[1m350s\u001b[0m 3s/step - accuracy: 0.9862 - loss: 0.4143\n",
      "Fold 5 - Test Loss: 0.4011867940425873, Test Accuracy: 0.9901463985443115\n",
      "\n",
      "Métricas de cada fold:\n",
      "Fold 1 - Test Loss: 0.4062718451023102, Test Accuracy: 0.9864864945411682\n",
      "Fold 2 - Test Loss: 0.4138973355293274, Test Accuracy: 0.9921171069145203\n",
      "Fold 3 - Test Loss: 0.42039668560028076, Test Accuracy: 0.9890202879905701\n",
      "Fold 4 - Test Loss: 0.40467318892478943, Test Accuracy: 0.9915540814399719\n",
      "Fold 5 - Test Loss: 0.4011867940425873, Test Accuracy: 0.9901463985443115\n"
     ]
    }
   ],
   "source": [
    "# Ruta a la carpeta donde están guardados los modelos\n",
    "model_dir = 'models/'\n",
    "n_splits = 5  # Número de folds utilizados para la validación cruzada\n",
    "\n",
    "# Guardar las métricas para cada fold\n",
    "metrics = []\n",
    "\n",
    "# Evaluar cada modelo en el conjunto de pruebas\n",
    "for fold in range(n_splits):\n",
    "    model_path = os.path.join(model_dir, f'best_model_fold_{fold + 1}.keras')\n",
    "    print(f\"Cargando y evaluando {model_path}...\")\n",
    "    \n",
    "    # Cargar el modelo guardado\n",
    "    model = load_model(model_path)\n",
    "    \n",
    "    # Evaluar el modelo en el conjunto de pruebas\n",
    "    test_loss, test_accuracy = model.evaluate(test_generator, steps=test_generator.samples // test_generator.batch_size)\n",
    "    metrics.append({'fold': fold + 1, 'test_loss': test_loss, 'test_accuracy': test_accuracy})\n",
    "    \n",
    "    print(f\"Fold {fold + 1} - Test Loss: {test_loss}, Test Accuracy: {test_accuracy}\")\n",
    "\n",
    "# Imprimir todas las métricas obtenidas\n",
    "print(\"\\nMétricas de cada fold:\")\n",
    "for metric in metrics:\n",
    "    print(f\"Fold {metric['fold']} - Test Loss: {metric['test_loss']}, Test Accuracy: {metric['test_accuracy']}\")"
   ]
  },
  {
   "cell_type": "code",
   "execution_count": 43,
   "metadata": {},
   "outputs": [
    {
     "name": "stdout",
     "output_type": "stream",
     "text": [
      "\n",
      "Average Test Loss: 0.409285169839859\n",
      "Average Test Accuracy: 0.9898648738861084\n"
     ]
    }
   ],
   "source": [
    "# Calcular y mostrar la media de las métricas\n",
    "avg_test_loss = np.mean([m['test_loss'] for m in metrics])\n",
    "avg_test_accuracy = np.mean([m['test_accuracy'] for m in metrics])\n",
    "print(f\"\\nAverage Test Loss: {avg_test_loss}\")\n",
    "print(f\"Average Test Accuracy: {avg_test_accuracy}\")"
   ]
  },
  {
   "cell_type": "code",
   "execution_count": 44,
   "metadata": {},
   "outputs": [
    {
     "name": "stdout",
     "output_type": "stream",
     "text": [
      "\n",
      "El mejor modelo es del Fold 2 con una precisión de 0.9921171069145203\n"
     ]
    }
   ],
   "source": [
    "# Encontrar el fold con la mejor precisión\n",
    "best_model_metrics = max(metrics, key=lambda x: x['test_accuracy'])\n",
    "best_fold = best_model_metrics['fold']\n",
    "print(f\"\\nEl mejor modelo es del Fold {best_fold} con una precisión de {best_model_metrics['test_accuracy']}\")\n",
    "\n",
    "# Evaluar el mejor modelo con más detalle\n",
    "best_model_path = os.path.join(model_dir, f'best_model_fold_{best_fold}.keras')\n",
    "best_model = load_model(best_model_path)"
   ]
  },
  {
   "cell_type": "code",
   "execution_count": 45,
   "metadata": {},
   "outputs": [
    {
     "name": "stdout",
     "output_type": "stream",
     "text": [
      "\u001b[1m111/111\u001b[0m \u001b[32m━━━━━━━━━━━━━━━━━━━━\u001b[0m\u001b[37m\u001b[0m \u001b[1m322s\u001b[0m 3s/step\n"
     ]
    }
   ],
   "source": [
    "# Generar predicciones y reportes\n",
    "predictions = best_model.predict(test_generator, steps=test_generator.samples // test_generator.batch_size, verbose=1)\n",
    "predicted_classes = np.argmax(predictions, axis=1)\n",
    "true_classes = test_generator.classes"
   ]
  },
  {
   "cell_type": "code",
   "execution_count": 48,
   "metadata": {},
   "outputs": [
    {
     "name": "stdout",
     "output_type": "stream",
     "text": [
      "True classes length: 3561\n",
      "Predicted classes length: 3552\n",
      "Las longitudes de true_classes y predicted_classes no coinciden. No se puede generar el reporte.\n"
     ]
    }
   ],
   "source": [
    "# Generar el informe de clasificación\n",
    "# Verificar que las longitudes coinciden\n",
    "print(f\"True classes length: {len(true_classes)}\")\n",
    "print(f\"Predicted classes length: {len(predicted_classes)}\")\n",
    "\n",
    "if len(true_classes) == len(predicted_classes):\n",
    "    report = classification_report(true_classes, predicted_classes, target_names=['Melanoma', 'NotMelanoma'])\n",
    "    print(report)\n",
    "else:\n",
    "    print(\"Las longitudes de true_classes y predicted_classes no coinciden. No se puede generar el reporte.\")\n",
    "    # Puedes ajustar el código aquí para manejar esta discrepancia"
   ]
  },
  {
   "cell_type": "code",
   "execution_count": 51,
   "metadata": {},
   "outputs": [],
   "source": [
    "# Si hay una discrepancia, recortar las clases verdaderas para que coincidan con las predicciones\n",
    "if len(predicted_classes) < len(true_classes):\n",
    "    true_classes = true_classes[:len(predicted_classes)]"
   ]
  },
  {
   "cell_type": "code",
   "execution_count": 52,
   "metadata": {},
   "outputs": [
    {
     "name": "stdout",
     "output_type": "stream",
     "text": [
      "\n",
      "Informe de clasificación:\n",
      "              precision    recall  f1-score   support\n",
      "\n",
      "    Melanoma       0.99      0.99      0.99      1781\n",
      " NotMelanoma       0.99      0.99      0.99      1771\n",
      "\n",
      "    accuracy                           0.99      3552\n",
      "   macro avg       0.99      0.99      0.99      3552\n",
      "weighted avg       0.99      0.99      0.99      3552\n",
      "\n"
     ]
    }
   ],
   "source": [
    "# Ahora puedes generar el informe de clasificación sin errores\n",
    "report = classification_report(true_classes, predicted_classes, target_names=['Melanoma', 'NotMelanoma'])\n",
    "print(\"\\nInforme de clasificación:\")\n",
    "print(report)"
   ]
  },
  {
   "cell_type": "code",
   "execution_count": 53,
   "metadata": {},
   "outputs": [
    {
     "name": "stdout",
     "output_type": "stream",
     "text": [
      "\n",
      "Confusion Matrix:\n",
      "[[1762   19]\n",
      " [   9 1762]]\n"
     ]
    }
   ],
   "source": [
    "# Mostrar la matriz de confusión\n",
    "conf_matrix = confusion_matrix(true_classes, predicted_classes)\n",
    "print(\"\\nConfusion Matrix:\")\n",
    "print(conf_matrix)"
   ]
  },
  {
   "cell_type": "code",
   "execution_count": 57,
   "metadata": {},
   "outputs": [
    {
     "data": {
      "image/png": "[encoded data removed]",
      "text/plain": [
       "<Figure size 800x600 with 2 Axes>"
      ]
     },
     "metadata": {},
     "output_type": "display_data"
    }
   ],
   "source": [
    "import seaborn as sns\n",
    "from sklearn.metrics import confusion_matrix\n",
    "\n",
    "# Calcular la matriz de confusión\n",
    "conf_matrix = confusion_matrix(true_classes, predicted_classes)\n",
    "\n",
    "# Mostrar la matriz de confusión como una gráfica\n",
    "plt.figure(figsize=(8, 6))\n",
    "sns.heatmap(conf_matrix, annot=True, fmt=\"d\", cmap=\"Blues\", xticklabels=['Melanoma', 'NotMelanoma'], yticklabels=['Melanoma', 'NotMelanoma'])\n",
    "plt.xlabel('Predicted Labels')\n",
    "plt.ylabel('True Labels')\n",
    "plt.title('Confusion Matrix')\n",
    "plt.show()"
   ]
  }
 ],
 "metadata": {
  "kernelspec": {
   "display_name": "Python 3",
   "language": "python",
   "name": "python3"
  },
  "language_info": {
   "codemirror_mode": {
    "name": "ipython",
    "version": 3
   },
   "file_extension": ".py",
   "mimetype": "text/x-python",
   "name": "python",
   "nbconvert_exporter": "python",
   "pygments_lexer": "ipython3",
   "version": "3.12.3"
  }
 },
 "nbformat": 4,
 "nbformat_minor": 2
}
